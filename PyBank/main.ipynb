{
 "cells": [
  {
   "cell_type": "code",
   "execution_count": 2,
   "id": "67aa3451",
   "metadata": {},
   "outputs": [],
   "source": [
    "import csv\n",
    "from pathlib import Path"
   ]
  },
  {
   "cell_type": "code",
   "execution_count": 3,
   "id": "aa5ea7e5",
   "metadata": {},
   "outputs": [],
   "source": [
    "csv_path = Path(\"budget_data.csv\")"
   ]
  },
  {
   "cell_type": "code",
   "execution_count": 4,
   "id": "f9ba94bd",
   "metadata": {},
   "outputs": [],
   "source": [
    "with open(csv_path, \"r\") as file:\n",
    "    csv_file = csv.reader(file, delimiter = \",\")\n",
    "    \n",
    "    headers = next(csv_file)\n",
    "    #yield the first one so on the next for loop, it takes it out\n",
    "    \n",
    "    whole_list = []\n",
    "    for x in csv_file:\n",
    "        whole_list.append(x)\n",
    "    #transferring all data to a list from the csv file"
   ]
  },
  {
   "cell_type": "code",
   "execution_count": 5,
   "id": "85c6aed2",
   "metadata": {},
   "outputs": [
    {
     "name": "stdout",
     "output_type": "stream",
     "text": [
      "86\n"
     ]
    }
   ],
   "source": [
    "t_months = len(whole_list)\n",
    "print(t_months)\n",
    "#total months is lenght of whole list minus header"
   ]
  },
  {
   "cell_type": "code",
   "execution_count": 6,
   "id": "b47a73fa",
   "metadata": {},
   "outputs": [
    {
     "name": "stdout",
     "output_type": "stream",
     "text": [
      "['867884', '984655', '322013', '-69417', '310503', '522857', '1033096', '604885', '-216386', '477532', '893810', '-80353', '779806', '-335203', '697845', '793163', '485070', '584122', '62729', '668179', '899906', '834719', '132003', '309978', '-755566', '1170593', '252788', '1151518', '817256', '570757', '506702', '-1022534', '475062', '779976', '144175', '542494', '359333', '321469', '67780', '471435', '565603', '872480', '789480', '999942', '-1196225', '268997', '-687986', '1150461', '682458', '617856', '824098', '581943', '132864', '448062', '689161', '800701', '1166643', '947333', '578668', '988505', '1139715', '1029471', '687533', '-524626', '158620', '87795', '423389', '840723', '568529', '332067', '989499', '778237', '650000', '-1100387', '-174946', '757143', '445709', '712961', '-1163797', '569899', '768450', '102685', '795914', '60988', '138230', '671099']\n"
     ]
    }
   ],
   "source": [
    "money_list = [row[1] for row in whole_list]\n",
    "print(money_list)\n",
    "#list for just second row of money"
   ]
  },
  {
   "cell_type": "code",
   "execution_count": 7,
   "id": "11c70bed",
   "metadata": {},
   "outputs": [
    {
     "name": "stdout",
     "output_type": "stream",
     "text": [
      "38382578\n"
     ]
    }
   ],
   "source": [
    "t_money = 0\n",
    "for ele in range(0, len(money_list)):\n",
    "    \n",
    "    t_money = t_money + int(money_list[ele])\n",
    "print(t_money)\n",
    "#this for loop adds all values in that list of money"
   ]
  },
  {
   "cell_type": "code",
   "execution_count": 11,
   "id": "b503fff6",
   "metadata": {},
   "outputs": [],
   "source": [
    "change_list = []\n",
    "for ele in range(0, len(money_list)):\n",
    "    current_change = int(money_list[ele]) - int(money_list[ele - 1])\n",
    "    change_list.append(current_change)\n",
    "#list is created with only the changes month to month"
   ]
  },
  {
   "cell_type": "code",
   "execution_count": 15,
   "id": "f698c4a0",
   "metadata": {},
   "outputs": [
    {
     "data": {
      "text/plain": [
       "[116771,\n",
       " -662642,\n",
       " -391430,\n",
       " 379920,\n",
       " 212354,\n",
       " 510239,\n",
       " -428211,\n",
       " -821271,\n",
       " 693918,\n",
       " 416278,\n",
       " -974163,\n",
       " 860159,\n",
       " -1115009,\n",
       " 1033048,\n",
       " 95318,\n",
       " -308093,\n",
       " 99052,\n",
       " -521393,\n",
       " 605450,\n",
       " 231727,\n",
       " -65187,\n",
       " -702716,\n",
       " 177975,\n",
       " -1065544,\n",
       " 1926159,\n",
       " -917805,\n",
       " 898730,\n",
       " -334262,\n",
       " -246499,\n",
       " -64055,\n",
       " -1529236,\n",
       " 1497596,\n",
       " 304914,\n",
       " -635801,\n",
       " 398319,\n",
       " -183161,\n",
       " -37864,\n",
       " -253689,\n",
       " 403655,\n",
       " 94168,\n",
       " 306877,\n",
       " -83000,\n",
       " 210462,\n",
       " -2196167,\n",
       " 1465222,\n",
       " -956983,\n",
       " 1838447,\n",
       " -468003,\n",
       " -64602,\n",
       " 206242,\n",
       " -242155,\n",
       " -449079,\n",
       " 315198,\n",
       " 241099,\n",
       " 111540,\n",
       " 365942,\n",
       " -219310,\n",
       " -368665,\n",
       " 409837,\n",
       " 151210,\n",
       " -110244,\n",
       " -341938,\n",
       " -1212159,\n",
       " 683246,\n",
       " -70825,\n",
       " 335594,\n",
       " 417334,\n",
       " -272194,\n",
       " -236462,\n",
       " 657432,\n",
       " -211262,\n",
       " -128237,\n",
       " -1750387,\n",
       " 925441,\n",
       " 932089,\n",
       " -311434,\n",
       " 267252,\n",
       " -1876758,\n",
       " 1733696,\n",
       " 198551,\n",
       " -665765,\n",
       " 693229,\n",
       " -734926,\n",
       " 77242,\n",
       " 532869]"
      ]
     },
     "execution_count": 15,
     "metadata": {},
     "output_type": "execute_result"
    }
   ],
   "source": [
    "change_list"
   ]
  },
  {
   "cell_type": "code",
   "execution_count": 13,
   "id": "fa291e78",
   "metadata": {},
   "outputs": [
    {
     "data": {
      "text/plain": [
       "196785"
      ]
     },
     "execution_count": 13,
     "metadata": {},
     "output_type": "execute_result"
    }
   ],
   "source": [
    "change_list.pop(0)\n",
    "#first item of list is erased given that a change month to month cannot have the first month as a corresponding month."
   ]
  },
  {
   "cell_type": "code",
   "execution_count": 14,
   "id": "0d7ee684",
   "metadata": {},
   "outputs": [
    {
     "name": "stdout",
     "output_type": "stream",
     "text": [
      "[116771, -662642, -391430, 379920, 212354, 510239, -428211, -821271, 693918, 416278, -974163, 860159, -1115009, 1033048, 95318, -308093, 99052, -521393, 605450, 231727, -65187, -702716, 177975, -1065544, 1926159, -917805, 898730, -334262, -246499, -64055, -1529236, 1497596, 304914, -635801, 398319, -183161, -37864, -253689, 403655, 94168, 306877, -83000, 210462, -2196167, 1465222, -956983, 1838447, -468003, -64602, 206242, -242155, -449079, 315198, 241099, 111540, 365942, -219310, -368665, 409837, 151210, -110244, -341938, -1212159, 683246, -70825, 335594, 417334, -272194, -236462, 657432, -211262, -128237, -1750387, 925441, 932089, -311434, 267252, -1876758, 1733696, 198551, -665765, 693229, -734926, 77242, 532869]\n"
     ]
    }
   ],
   "source": [
    "print(change_list)"
   ]
  },
  {
   "cell_type": "code",
   "execution_count": 18,
   "id": "20859458",
   "metadata": {},
   "outputs": [
    {
     "name": "stdout",
     "output_type": "stream",
     "text": [
      "-2315.1176470588234\n"
     ]
    }
   ],
   "source": [
    "avg_change = 0\n",
    "t_change = 0\n",
    "for ele in range(0, len(change_list)):\n",
    "    t_change = t_change + int(change_list[ele])\n",
    "    \n",
    "avg_change = t_change/len(change_list)\n",
    "print(avg_change)\n",
    "#calculating the average change of profits/losses"
   ]
  },
  {
   "cell_type": "code",
   "execution_count": 22,
   "id": "10b1502b",
   "metadata": {},
   "outputs": [
    {
     "name": "stdout",
     "output_type": "stream",
     "text": [
      "[116771, -662642, -391430, 379920, 212354, 510239, -428211, -821271, 693918, 416278, -974163, 860159, -1115009, 1033048, 95318, -308093, 99052, -521393, 605450, 231727, -65187, -702716, 177975, -1065544, 1926159, -917805, 898730, -334262, -246499, -64055, -1529236, 1497596, 304914, -635801, 398319, -183161, -37864, -253689, 403655, 94168, 306877, -83000, 210462, -2196167, 1465222, -956983, 1838447, -468003, -64602, 206242, -242155, -449079, 315198, 241099, 111540, 365942, -219310, -368665, 409837, 151210, -110244, -341938, -1212159, 683246, -70825, 335594, 417334, -272194, -236462, 657432, -211262, -128237, -1750387, 925441, 932089, -311434, 267252, -1876758, 1733696, 198551, -665765, 693229, -734926, 77242, 532869]\n"
     ]
    }
   ],
   "source": [
    "changelist_int = []\n",
    "int_value = 0\n",
    "for ele in range(0, len(change_list)):\n",
    "    int_value = (int(change_list[ele]))\n",
    "    changelist_int.append(int_value)\n",
    "print(changelist_int)\n",
    "#changing previous list into all integers"
   ]
  },
  {
   "cell_type": "code",
   "execution_count": 29,
   "id": "24d36f76",
   "metadata": {},
   "outputs": [
    {
     "name": "stdout",
     "output_type": "stream",
     "text": [
      "1926159\n"
     ]
    }
   ],
   "source": [
    "greatest_profit = max(changelist_int)\n",
    "print(greatest_profit)"
   ]
  },
  {
   "cell_type": "code",
   "execution_count": 30,
   "id": "259845cc",
   "metadata": {},
   "outputs": [
    {
     "name": "stdout",
     "output_type": "stream",
     "text": [
      "-2196167\n"
     ]
    }
   ],
   "source": [
    "lowest_profit = min(changelist_int)\n",
    "print(lowest_profit)"
   ]
  },
  {
   "cell_type": "code",
   "execution_count": 31,
   "id": "e4b76c00",
   "metadata": {},
   "outputs": [],
   "source": [
    "index_greatest = 0\n",
    "index_lowest = 0\n",
    "for ele in range(0, len(changelist_int)):\n",
    "    if changelist_int[ele] == greatest_profit:\n",
    "        index_greatest = ele\n",
    "    if changelist_int[ele] == lowest_profit:\n",
    "        index_lowest = ele\n",
    "#getting the index position of greatest and lowest"
   ]
  },
  {
   "cell_type": "code",
   "execution_count": 33,
   "id": "a160e508",
   "metadata": {},
   "outputs": [
    {
     "name": "stdout",
     "output_type": "stream",
     "text": [
      "43\n"
     ]
    }
   ],
   "source": [
    "print (index_lowest)"
   ]
  },
  {
   "cell_type": "code",
   "execution_count": 44,
   "id": "8960c62e",
   "metadata": {},
   "outputs": [],
   "source": [
    "greatest_month = whole_list[index_greatest + 1][0]"
   ]
  },
  {
   "cell_type": "code",
   "execution_count": 45,
   "id": "6280be69",
   "metadata": {},
   "outputs": [],
   "source": [
    "lowest_month = whole_list[index_lowest + 1][0]\n",
    "#using previous index position to correspond with month but adding 1 because previously we had taken out 1"
   ]
  },
  {
   "cell_type": "code",
   "execution_count": 48,
   "id": "6bb88cd7",
   "metadata": {},
   "outputs": [],
   "source": [
    "with open(\"output.txt\", \"w\") as f:\n",
    "    print('Financial Analysis', file=f)\n",
    "    print('--------------------------------------------', file=f)\n",
    "    print('Total Months: ' + str(t_months), file=f)\n",
    "    print('Total: $' + str(t_money), file =f)\n",
    "    print('Greatest Increase in Profits: ' + greatest_month + ' ' + str(greatest_profit), file=f)\n",
    "    print('Greatest Decrease in Profits: ' + lowest_month +' ' + str(lowest_profit), file=f)\n",
    "#printing to an output file"
   ]
  },
  {
   "cell_type": "code",
   "execution_count": null,
   "id": "de3a29fa",
   "metadata": {},
   "outputs": [],
   "source": []
  }
 ],
 "metadata": {
  "kernelspec": {
   "display_name": "Python 3 (ipykernel)",
   "language": "python",
   "name": "python3"
  },
  "language_info": {
   "codemirror_mode": {
    "name": "ipython",
    "version": 3
   },
   "file_extension": ".py",
   "mimetype": "text/x-python",
   "name": "python",
   "nbconvert_exporter": "python",
   "pygments_lexer": "ipython3",
   "version": "3.7.13"
  }
 },
 "nbformat": 4,
 "nbformat_minor": 5
}
